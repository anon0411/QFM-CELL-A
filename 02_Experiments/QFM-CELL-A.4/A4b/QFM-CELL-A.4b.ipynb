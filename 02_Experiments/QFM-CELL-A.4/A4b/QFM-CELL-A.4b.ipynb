{
 "cells": [
  {
   "cell_type": "code",
   "execution_count": null,
   "id": "6e75b22f",
   "metadata": {
    "vscode": {
     "languageId": "plaintext"
    }
   },
   "outputs": [],
   "source": [
    "from qiskit import QuantumCircuit, transpile\n",
    "from qiskit_aer import AerSimulator\n",
    "from qiskit.visualization import plot_histogram\n",
    "import matplotlib.pyplot as plt\n",
    "\n",
    "# 회로 생성\n",
    "qc = QuantumCircuit(1, 1)\n",
    "qc.h(0)          # Hadamard gate\n",
    "qc.z(0)          # External stimulus: Z-gate (phase shift)\n",
    "qc.measure(0, 0) # 측정\n",
    "\n",
    "# 시뮬레이터 실행\n",
    "sim = AerSimulator()\n",
    "tqc = transpile(qc, sim)\n",
    "job = sim.run(tqc, shots=1000)\n",
    "result = job.result()\n",
    "counts = result.get_counts()\n",
    "\n",
    "# 시각화 및 저장\n",
    "fig = plot_histogram(counts, title=\"QFM-CELL-A.4b — Z-gate inserted\")\n",
    "fig.savefig(\"result_A4b_1.png\")\n",
    "plt.close(fig)\n"
   ]
  },
  {
   "cell_type": "code",
   "execution_count": null,
   "id": "df4fb9ac",
   "metadata": {
    "vscode": {
     "languageId": "plaintext"
    }
   },
   "outputs": [],
   "source": [
    "from qiskit import QuantumCircuit, transpile\n",
    "from qiskit_aer import AerSimulator\n",
    "from qiskit.visualization import plot_histogram\n",
    "import matplotlib.pyplot as plt\n",
    "import numpy as np\n",
    "from scipy.spatial.distance import cosine\n",
    "\n",
    "# 정량 지표 함수 정의\n",
    "def shannon_entropy(counts):\n",
    "    total = sum(counts.values())\n",
    "    probs = [v / total for v in counts.values()]\n",
    "    return -sum(p * np.log2(p) for p in probs if p > 0)\n",
    "\n",
    "def distribution_vector(counts, keys):\n",
    "    total = sum(counts.values())\n",
    "    return np.array([counts.get(k, 0) / total for k in keys])\n",
    "\n",
    "# 회로 구성 함수\n",
    "def build_circuit():\n",
    "    qc = QuantumCircuit(1, 1)\n",
    "    qc.h(0)\n",
    "    qc.z(0)\n",
    "    qc.measure(0, 0)\n",
    "    return qc\n",
    "\n",
    "# 시뮬레이터 설정\n",
    "sim = AerSimulator()\n",
    "shots = 1000\n",
    "repetitions = 3\n",
    "counts_list = []\n",
    "\n",
    "# 실험 반복 실행\n",
    "for i in range(repetitions):\n",
    "    qc = build_circuit()\n",
    "    tqc = transpile(qc, sim)\n",
    "    job = sim.run(tqc, shots=shots)\n",
    "    result = job.result()\n",
    "    counts = result.get_counts()\n",
    "    counts_list.append(counts)\n",
    "\n",
    "    # 개별 결과 시각화\n",
    "    fig = plot_histogram(counts, title=f\"QFM-CELL-A.4b — Run {i+1}\")\n",
    "    fig.savefig(f\"result_A4b_run{i+1}.png\")\n",
    "    plt.close(fig)\n",
    "\n",
    "# 엔트로피 계산 및 시각화\n",
    "entropies = [shannon_entropy(c) for c in counts_list]\n",
    "plt.plot(range(1, repetitions + 1), entropies, marker='o')\n",
    "plt.title(\"QFM-CELL-A.4b — Shannon Entropy Across Repeats\")\n",
    "plt.xlabel(\"Repeat\")\n",
    "plt.ylabel(\"Entropy\")\n",
    "plt.grid(True)\n",
    "plt.savefig(\"entropy_plot.png\")\n",
    "plt.show()\n",
    "\n",
    "# 유사도 로그 저장\n",
    "with open(\"similarity_log.txt\", \"w\", encoding=\"utf-8\") as f:\n",
    "    f.write(\"QFM-CELL-A.4b — Cosine Similarity Log\\n-----------------------------\\n\")\n",
    "    for i in range(repetitions - 1):\n",
    "        c1, c2 = counts_list[i], counts_list[i + 1]\n",
    "        keys = sorted(set(c1) | set(c2))\n",
    "        v1 = distribution_vector(c1, keys)\n",
    "        v2 = distribution_vector(c2, keys)\n",
    "        sim = 1 - cosine(v1, v2)\n",
    "        f.write(f\"Run {i+1} vs Run {i+2}: {sim:.4f}\\n\")\n"
   ]
  }
 ],
 "metadata": {
  "language_info": {
   "name": "python"
  }
 },
 "nbformat": 4,
 "nbformat_minor": 5
}
