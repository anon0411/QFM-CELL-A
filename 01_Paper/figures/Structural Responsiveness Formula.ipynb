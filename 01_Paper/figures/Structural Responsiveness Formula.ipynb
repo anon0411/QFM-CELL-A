{
 "cells": [
  {
   "cell_type": "code",
   "execution_count": null,
   "id": "a0fa0a3f",
   "metadata": {
    "vscode": {
     "languageId": "plaintext"
    }
   },
   "outputs": [],
   "source": [
    "# 구조 반응성 (Structural Responsiveness) 정량 정의 제안\n",
    "\n",
    "\"구조 반응성\"을 **양자 회로 실험 결과**에 대해 수학적으로 정의하기 위해, 다음과 같은 기본 수식을 제안합니다.\n",
    "\n",
    "# --- 수식 설계 기본 개념 ---\n",
    "\n",
    "# 1. 엔트로피 변화량 기반 정의\n",
    "# 2. 출력 분포 유사도 변화량 기반 정의\n",
    "# 3. 변화량이 일정 임계값(epsilon) 이상이면 구조 반응성 존재 판정\n",
    "\n",
    "# --- 수식 정의 ---\n",
    "\n",
    "# 주어진:\n",
    "# - H_before: 구조 삽입 전의 샤논 엔트로피\n",
    "# - H_after: 구조 삽입 후의 샤논 엔트로피\n",
    "# - cos_sim_before: 구조 삽입 전 반복 실행 간 코사인 유사도 평균\n",
    "# - cos_sim_after: 구조 삽입 후 반복 실행 간 코사인 유사도 평균\n",
    "\n",
    "# - epsilon_H: 엔트로피 변화 임계값 (ex. 0.01)\n",
    "# - epsilon_sim: 유사도 변화 임계값 (ex. 0.01)\n",
    "\n",
    "# 구조 반응성 판정 조건 (제안)\n",
    "\n",
    "# 엔트로피 변화 조건\n",
    "abs(H_after - H_before) >= epsilon_H\n",
    "\n",
    "# 또는\n",
    "\n",
    "# 코사인 유사도 변화 조건\n",
    "abs(cos_sim_after - cos_sim_before) >= epsilon_sim\n",
    "\n",
    "# 둘 중 하나라도 만족하면:\n",
    "# 구조 반응성(structural responsiveness)이 존재한다고 판정.\n",
    "\n",
    "# --- Python 스타일 포뮬러 예시 ---\n",
    "\n",
    "def detect_structural_responsiveness(H_before, H_after, cos_sim_before, cos_sim_after, epsilon_H=0.01, epsilon_sim=0.01):\n",
    "    entropy_change = abs(H_after - H_before)\n",
    "    similarity_change = abs(cos_sim_after - cos_sim_before)\n",
    "    \n",
    "    if entropy_change >= epsilon_H or similarity_change >= epsilon_sim:\n",
    "        return True  # 구조 반응성 존재\n",
    "    else:\n",
    "        return False  # 구조 반응성 없음\n",
    "\n",
    "# --- 적용 예시 ---\n",
    "\n",
    "# 예시 값:\n",
    "# H_before = 0.9998\n",
    "# H_after = 0.9972\n",
    "# cos_sim_before = 0.9996\n",
    "# cos_sim_after = 0.9970\n",
    "\n",
    "# result = detect_structural_responsiveness(H_before, H_after, cos_sim_before, cos_sim_after)\n",
    "# print(result)  # True (구조 반응성 존재)\n",
    "\n",
    "# --- 해설 ---\n",
    "# - 엔트로피가 일정 수준 감소하거나,\n",
    "# - 출력 분포 유사도가 일정 수준 감소하면,\n",
    "# 구조에 의한 변화(구조 반응성)가 발생한 것으로 판정한다.\n",
    "\n",
    "# 이 정의는 단순하고 직관적이며, 다양한 실험군에 쉽게 적용 가능하다.\n"
   ]
  }
 ],
 "metadata": {
  "language_info": {
   "name": "python"
  }
 },
 "nbformat": 4,
 "nbformat_minor": 5
}
